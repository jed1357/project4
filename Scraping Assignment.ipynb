{
 "cells": [
  {
   "cell_type": "code",
   "execution_count": 1,
   "metadata": {},
   "outputs": [],
   "source": [
    "import requests\n",
    "import re\n",
    "import pandas as pd"
   ]
  },
  {
   "cell_type": "code",
   "execution_count": 2,
   "metadata": {},
   "outputs": [],
   "source": [
    "results = requests.get('https://meqasa.com/houses-for-rent-in-ghana')"
   ]
  },
  {
   "cell_type": "code",
   "execution_count": 3,
   "metadata": {},
   "outputs": [],
   "source": [
    "from bs4 import BeautifulSoup"
   ]
  },
  {
   "cell_type": "code",
   "execution_count": 4,
   "metadata": {},
   "outputs": [],
   "source": [
    "soup = BeautifulSoup(results.content, 'lxml')"
   ]
  },
  {
   "cell_type": "code",
   "execution_count": 5,
   "metadata": {},
   "outputs": [],
   "source": [
    "listings = soup.find_all('div', {'class':'mqs-prop-dt-wrapper'})"
   ]
  },
  {
   "cell_type": "code",
   "execution_count": 7,
   "metadata": {},
   "outputs": [],
   "source": [
    "def if_exists(x):\n",
    "    if x is not None:\n",
    "        return x.text\n",
    "    else:\n",
    "        return ''"
   ]
  },
  {
   "cell_type": "code",
   "execution_count": 8,
   "metadata": {},
   "outputs": [],
   "source": [
    "real_estate = []\n",
    "for a in listings:\n",
    "    property_name = a.find('h2').text.replace('\\n', '')\n",
    "    beds =  a.find('li', {'class':'bed'}).text.replace('\\n', '')\n",
    "    garages = if_exists(a.find('li', {'class':'garage'}))\n",
    "    showers = a.find('li', {'class':'shower'}).text.replace('\\n', '')\n",
    "    area = if_exists(a.find('li', {'class':'area'}))\n",
    "    description = if_exists(a.find_all('p')[1])\n",
    "    price = a.find('p', {'class':'h3'}).text.replace('\\nPrice', '').replace('/ month\\n', '').replace('[Price disclosed on request] \\n', '')\n",
    "    currency = a.find('p', {'class':'h3'}).text.replace('\\nPrice', '').replace('/ month\\n', '').replace('[Price disclosed on request] \\n', '')\n",
    "    currency = re.sub('\\d', '', currency)\n",
    "    rent = a.find('p', {'class':'h3'}).text.replace('\\nPrice$', '').replace('\\nPriceGH₵', '').replace('\\n', '').replace('PricePricedisclosedonrequest', '')\n",
    "    c = re.sub('\\d.....\\W', '', rent)\n",
    "    d = re.sub('\\d....\\W', '', c)\n",
    "    rentperiod = re.sub('\\W', '', d)\n",
    "    url = a.find('a')['href']\n",
    "    url = 'https://meqasa.com/houses-for-rent-in-ghana' + url\n",
    "    address = a.find('h2').text.replace('\\n', '').split('at')[1]\n",
    "    timeposted = ''\n",
    "    \n",
    "    \n",
    "        \n",
    "    real_estate.append(\n",
    "        {\n",
    "            'property': property_name,             \n",
    "            'showers': showers,\n",
    "            'beds': beds,            \n",
    "            'garages': garages,\n",
    "            'area': area,\n",
    "            'description': description,\n",
    "            'price': price,\n",
    "            'currency': currency,\n",
    "            'rent period': rentperiod,\n",
    "            'url': url,  \n",
    "            'address': address,\n",
    "            'time posted': timeposted,\n",
    "            \n",
    "        }\n",
    "    )\n",
    "  \n",
    "# real_estate"
   ]
  },
  {
   "cell_type": "code",
   "execution_count": 10,
   "metadata": {},
   "outputs": [],
   "source": [
    "df = pd.DataFrame(real_estate)\n",
    "# df"
   ]
  },
  {
   "cell_type": "code",
   "execution_count": null,
   "metadata": {},
   "outputs": [],
   "source": []
  }
 ],
 "metadata": {
  "kernelspec": {
   "display_name": "Python 3",
   "language": "python",
   "name": "python3"
  },
  "language_info": {
   "codemirror_mode": {
    "name": "ipython",
    "version": 3
   },
   "file_extension": ".py",
   "mimetype": "text/x-python",
   "name": "python",
   "nbconvert_exporter": "python",
   "pygments_lexer": "ipython3",
   "version": "3.7.3"
  }
 },
 "nbformat": 4,
 "nbformat_minor": 2
}
